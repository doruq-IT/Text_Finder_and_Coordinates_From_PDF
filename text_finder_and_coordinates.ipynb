{
 "cells": [
  {
   "cell_type": "code",
   "execution_count": null,
   "metadata": {},
   "outputs": [],
   "source": [
    "import fitz\n",
    "from pdf2image import convert_from_path\n",
    "import pytesseract\n",
    "import cv2\n",
    "import csv\n",
    "import ssl\n",
    "from transformers import AutoTokenizer, AutoModelForQuestionAnswering\n",
    "from transformers import pipeline"
   ]
  },
  {
   "cell_type": "code",
   "execution_count": null,
   "metadata": {},
   "outputs": [],
   "source": [
    "ssl._create_default_https_context = ssl._create_unverified_context # Disable SSL authentication\n",
    "\n",
    "def find_rectangles(pdf_file_path, search_text):\n",
    "    rectangles = []\n",
    "\n",
    "    with fitz.open(pdf_file_path) as doc:\n",
    "        for page_number in range(doc.page_count):\n",
    "            page = doc[page_number]\n",
    "            page_text = page.get_text()\n",
    "\n",
    "            if search_text in page_text:\n",
    "                pages = convert_from_path(pdf_file_path, dpi=300, first_page=page_number+1, last_page=page_number+1)\n",
    "\n",
    "                img_path = f'{pdf_file_path}_page_{page_number+1}.png'\n",
    "                pages[0].save(img_path, 'PNG')\n",
    "\n",
    "                img = cv2.imread(img_path)\n",
    "                # Ön işleme adımı eklendi\n",
    "                img = cv2.medianBlur(img, 3)\n",
    "                gray = cv2.cvtColor(img, cv2.COLOR_BGR2GRAY)\n",
    "                thresh = cv2.threshold(gray, 0, 255, cv2.THRESH_BINARY_INV + cv2.THRESH_OTSU)[1]\n",
    "\n",
    "                # Gerçekleştirilen OCR işlemi\n",
    "                text = pytesseract.image_to_string(thresh, lang='eng', config='--psm 6')\n",
    "\n",
    "                if search_text in text:\n",
    "                    rectangles.append((page_number+1, 1, 0, 0, img.shape[1], img.shape[0]))\n",
    "\n",
    "                    cv2.rectangle(img, (0, 0), (img.shape[1], img.shape[0]), (0, 0, 255), 2)\n",
    "                    cv2.imwrite(f'page_{page_number+1}_rects.png', img)\n",
    "\n",
    "                    # Hugging Face modeli kullanarak soruya yanıt verme\n",
    "                    tokenizer = AutoTokenizer.from_pretrained('bert-large-uncased-whole-word-masking-finetuned-squad')\n",
    "                    model = AutoModelForQuestionAnswering.from_pretrained('bert-large-uncased-whole-word-masking-finetuned-squad')\n",
    "                    nlp = pipeline('question-answering', model=model, tokenizer=tokenizer)\n",
    "\n",
    "                    question = input(\"Enter a question: \") # Ask the user to enter a question\n",
    "                                                           # Example question: What is the meaning of life?\n",
    "                    result = nlp({\n",
    "                        'question': question,  # This time use the question entered by the user\n",
    "                        'context': text\n",
    "                    })\n",
    "                    answer = result['answer']\n",
    "                    if answer:  # Write the coordinates to the CSV file if the answer is found\n",
    "                        with open('coordinates.csv', mode='a', newline='') as csv_file:\n",
    "                            fieldnames = ['Page Number', 'Rectangle Number', 'X', 'Y', 'Width', 'Height', 'Answer']\n",
    "                            writer = csv.DictWriter(csv_file, fieldnames=fieldnames)\n",
    "\n",
    "                            writer.writerow({'Page Number': page_number+1,\n",
    "                                              'Rectangle Number': 1,\n",
    "                                              'X': 0,\n",
    "                                              'Y': 0,\n",
    "                                              'Width': img.shape[1],\n",
    "                                              'Height': img.shape[0],\n",
    "                                              'Answer': answer})\n",
    "\n",
    "    return rectangles"
   ]
  }
 ],
 "metadata": {
  "kernelspec": {
   "display_name": "Python 3",
   "language": "python",
   "name": "python3"
  },
  "language_info": {
   "name": "python",
   "version": "3.10.11"
  },
  "orig_nbformat": 4
 },
 "nbformat": 4,
 "nbformat_minor": 2
}
